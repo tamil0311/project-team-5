{
 "cells": [
  {
   "cell_type": "code",
   "execution_count": 15,
   "id": "fb90f382-b2c9-4ff2-88eb-37be5d0d4fd8",
   "metadata": {},
   "outputs": [
    {
     "name": "stdout",
     "output_type": "stream",
     "text": [
      "\n",
      "--- Dataset 1 ---\n",
      "Prompt: 1. Dictate the progress note for a patient admitted for COPD exacerbation.\n"
     ]
    },
    {
     "name": "stdin",
     "output_type": "stream",
     "text": [
      "🎙️ Press Enter when you're ready to begin dictation (You will have 300 seconds)... \n"
     ]
    },
    {
     "name": "stdout",
     "output_type": "stream",
     "text": [
      "🔈 Calibrating for background noise...\n",
      "🔴 Start speaking now...\n",
      "🛑 Recording finished. Transcribing...\n",
      "✅ Transcription successful.\n",
      "📝 patient is a 65 year old male with heart disease\n",
      "📁 Transcription saved to: medical_transcription_1_2025-05-21_00-41-41.txt\n",
      "\n",
      "--- Dataset 2 ---\n",
      "Prompt: 2. Provide a discharge summary for a patient recovering from dengue fever.\n"
     ]
    },
    {
     "name": "stdin",
     "output_type": "stream",
     "text": [
      "🎙️ Press Enter when you're ready to begin dictation (You will have 300 seconds)... \n"
     ]
    },
    {
     "name": "stdout",
     "output_type": "stream",
     "text": [
      "🔈 Calibrating for background noise...\n",
      "🔴 Start speaking now...\n",
      "🛑 Recording finished. Transcribing...\n",
      "✅ Transcription successful.\n",
      "📝 the patient is of April and being discharge\n",
      "📁 Transcription saved to: medical_transcription_2_2025-05-21_00-42-13.txt\n",
      "\n",
      "--- Dataset 3 ---\n",
      "Prompt: 3. Record a new patient consultation for chronic lower back pain.\n"
     ]
    },
    {
     "name": "stdin",
     "output_type": "stream",
     "text": [
      "🎙️ Press Enter when you're ready to begin dictation (You will have 300 seconds)... \n"
     ]
    },
    {
     "name": "stdout",
     "output_type": "stream",
     "text": [
      "🔈 Calibrating for background noise...\n",
      "🔴 Start speaking now...\n",
      "🛑 Recording finished. Transcribing...\n",
      "✅ Transcription successful.\n",
      "📝 the patient is a 25 year old with back pain\n",
      "📁 Transcription saved to: medical_transcription_3_2025-05-21_00-42-39.txt\n"
     ]
    }
   ],
   "source": [
    "import speech_recognition as sr\n",
    "from datetime import datetime\n",
    "import time\n",
    "\n",
    "# Define 3 medical transcription prompts\n",
    "medical_datasets = [\n",
    "    \"1. Dictate the progress note for a patient admitted for COPD exacerbation.\",\n",
    "    \"2. Provide a discharge summary for a patient recovering from dengue fever.\",\n",
    "    \"3. Record a new patient consultation for chronic lower back pain.\",\n",
    "]\n",
    "\n",
    "def transcribe_medical_note(index, prompt):\n",
    "    recognizer = sr.Recognizer()\n",
    "    print(f\"\\n--- Dataset {index + 1} ---\")\n",
    "    print(f\"Prompt: {prompt}\")\n",
    "    input(\"🎙️ Press Enter when you're ready to begin dictation (You will have 300 seconds)...\")\n",
    "\n",
    "    with sr.Microphone() as source:\n",
    "        print(\"🔈 Calibrating for background noise...\")\n",
    "        recognizer.adjust_for_ambient_noise(source, duration=3)\n",
    "\n",
    "        print(\"🔴 Start speaking now...\")\n",
    "        try:\n",
    "            # Listen for up to 5 minutes\n",
    "            audio = recognizer.listen(source, timeout=5, phrase_time_limit=300)\n",
    "            print(\"🛑 Recording finished. Transcribing...\")\n",
    "\n",
    "            # Transcribe using Google Speech Recognition\n",
    "            transcription = recognizer.recognize_google(audio)\n",
    "            print(\"✅ Transcription successful.\")\n",
    "            print(\"📝\", transcription)\n",
    "\n",
    "            # Save to a file with timestamp\n",
    "            timestamp = datetime.now().strftime(\"%Y-%m-%d_%H-%M-%S\")\n",
    "            filename = f\"medical_transcription_{index + 1}_{timestamp}.txt\"\n",
    "\n",
    "            with open(filename, \"w\") as file:\n",
    "                file.write(\"Medical Dictation Transcription\\n\")\n",
    "                file.write(\"Date: \" + datetime.now().strftime(\"%Y-%m-%d %H:%M:%S\") + \"\\n\\n\")\n",
    "                file.write(\"Prompt: \" + prompt + \"\\n\\n\")\n",
    "                file.write(\"Transcription:\\n\" + transcription)\n",
    "\n",
    "            print(f\"📁 Transcription saved to: {filename}\")\n",
    "\n",
    "        except sr.WaitTimeoutError:\n",
    "            print(\"❌ No speech detected. You took too long to start.\")\n",
    "        except sr.UnknownValueError:\n",
    "            print(\"❌ Could not understand the audio.\")\n",
    "        except sr.RequestError as e:\n",
    "            print(f\"❌ Request to Google API failed: {e}\")\n",
    "\n",
    "# Run the transcription for each dataset\n",
    "for idx, prompt in enumerate(medical_datasets):\n",
    "    transcribe_medical_note(idx, prompt)\n",
    "    time.sleep(2)  # Optional pause before the next dataset\n"
   ]
  },
  {
   "cell_type": "code",
   "execution_count": null,
   "id": "dc28fe83-db6b-4e9d-a079-37da231aa864",
   "metadata": {},
   "outputs": [],
   "source": []
  },
  {
   "cell_type": "code",
   "execution_count": null,
   "id": "aa86be72-90ab-43e4-92e2-2b1d6f8e8b56",
   "metadata": {},
   "outputs": [],
   "source": []
  }
 ],
 "metadata": {
  "kernelspec": {
   "display_name": "Python 3 (ipykernel)",
   "language": "python",
   "name": "python3"
  },
  "language_info": {
   "codemirror_mode": {
    "name": "ipython",
    "version": 3
   },
   "file_extension": ".py",
   "mimetype": "text/x-python",
   "name": "python",
   "nbconvert_exporter": "python",
   "pygments_lexer": "ipython3",
   "version": "3.12.7"
  }
 },
 "nbformat": 4,
 "nbformat_minor": 5
}
